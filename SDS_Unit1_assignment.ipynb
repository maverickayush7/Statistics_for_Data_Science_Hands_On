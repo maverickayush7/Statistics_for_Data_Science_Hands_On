{
 "cells": [
  {
   "cell_type": "markdown",
   "metadata": {},
   "source": [
    "#### 1. Perform web scraping on the site mechalord7.github.io and retrieve article titles and summaries as displayed on Home page\n",
    "#### 2. Read CSV file \"Assignment1.csv\" using Pandas. Display first 15 rows of the dataframe. Display the rows where column \"Awards\" is \"1 win\" and \"5 wins\". Identify max and min values in Height column and handle outliers by removing them, then identify rows where Height value is null and impute the missing values.\n",
    "#### 3. Sort celebs by height in descending order. Calculate age based on Date of Birth and group rows by \"Role\" and calculate average Age.\n",
    "#### 4. Create a histogram to visualize the distribution of celebrities' ages.\n",
    "#### 5. Create a box plot to compare the ages of male and female celebrities.\n",
    "#### 6. Create a bar chart to display the count of celebrities by their professions.\n",
    "#### 7. Calculate the correlation matrix between ages, heights, and awards won by celebrities.\n",
    "#### 8. Identify an apt visualization to plot the trend of celebrities ages over their ranking. Also name one bad visualization."
   ]
  },
  {
   "cell_type": "code",
   "execution_count": null,
   "metadata": {},
   "outputs": [],
   "source": []
  }
 ],
 "metadata": {
  "language_info": {
   "name": "python"
  },
  "orig_nbformat": 4
 },
 "nbformat": 4,
 "nbformat_minor": 2
}
